{
 "cells": [
  {
   "cell_type": "markdown",
   "id": "b8257e07-c748-44e3-895a-6382dfb06157",
   "metadata": {},
   "source": [
    "# Importing necessary libraries "
   ]
  },
  {
   "cell_type": "code",
   "execution_count": 67,
   "id": "511acd9b-9492-4c2e-b342-1c4c8e877022",
   "metadata": {},
   "outputs": [],
   "source": [
    "import numpy as np\n",
    "import pandas as pd"
   ]
  },
  {
   "cell_type": "code",
   "execution_count": 68,
   "id": "0c1bee2c-54a5-40f1-b37a-0a147b5fe258",
   "metadata": {},
   "outputs": [],
   "source": [
    "df = pd.read_csv(\"SuperStore_Orders.csv\",encoding = \"ISO-8859-1\")"
   ]
  },
  {
   "cell_type": "markdown",
   "id": "572e8ff3-aa86-4ca8-a87e-a8e84702cf52",
   "metadata": {},
   "source": [
    "# Checking datatypes and changing them to appropriate types"
   ]
  },
  {
   "cell_type": "code",
   "execution_count": 69,
   "id": "5e9d417f-55da-47d9-bd4c-ae63aa3a3129",
   "metadata": {},
   "outputs": [
    {
     "data": {
      "text/plain": [
       "order_id           object\n",
       "order_date         object\n",
       "ship_date          object\n",
       "ship_mode          object\n",
       "customer_name      object\n",
       "segment            object\n",
       "state              object\n",
       "country            object\n",
       "market             object\n",
       "region             object\n",
       "product_id         object\n",
       "category           object\n",
       "sub_category       object\n",
       "product_name       object\n",
       "sales               int64\n",
       "quantity            int64\n",
       "discount          float64\n",
       "profit            float64\n",
       "shipping_cost     float64\n",
       "order_priority     object\n",
       "year                int64\n",
       "dtype: object"
      ]
     },
     "execution_count": 69,
     "metadata": {},
     "output_type": "execute_result"
    }
   ],
   "source": [
    "df.dtypes"
   ]
  },
  {
   "cell_type": "code",
   "execution_count": 70,
   "id": "2365c3e5-d918-4ae6-a90b-dbf9fd907c66",
   "metadata": {},
   "outputs": [
    {
     "data": {
      "text/html": [
       "<div>\n",
       "<style scoped>\n",
       "    .dataframe tbody tr th:only-of-type {\n",
       "        vertical-align: middle;\n",
       "    }\n",
       "\n",
       "    .dataframe tbody tr th {\n",
       "        vertical-align: top;\n",
       "    }\n",
       "\n",
       "    .dataframe thead th {\n",
       "        text-align: right;\n",
       "    }\n",
       "</style>\n",
       "<table border=\"1\" class=\"dataframe\">\n",
       "  <thead>\n",
       "    <tr style=\"text-align: right;\">\n",
       "      <th></th>\n",
       "      <th>order_id</th>\n",
       "      <th>order_date</th>\n",
       "      <th>ship_date</th>\n",
       "      <th>ship_mode</th>\n",
       "      <th>customer_name</th>\n",
       "      <th>segment</th>\n",
       "      <th>state</th>\n",
       "      <th>country</th>\n",
       "      <th>market</th>\n",
       "      <th>region</th>\n",
       "      <th>...</th>\n",
       "      <th>category</th>\n",
       "      <th>sub_category</th>\n",
       "      <th>product_name</th>\n",
       "      <th>sales</th>\n",
       "      <th>quantity</th>\n",
       "      <th>discount</th>\n",
       "      <th>profit</th>\n",
       "      <th>shipping_cost</th>\n",
       "      <th>order_priority</th>\n",
       "      <th>year</th>\n",
       "    </tr>\n",
       "  </thead>\n",
       "  <tbody>\n",
       "    <tr>\n",
       "      <th>0</th>\n",
       "      <td>AG-2011-2040</td>\n",
       "      <td>01-2011</td>\n",
       "      <td>06-2011</td>\n",
       "      <td>Standard Class</td>\n",
       "      <td>Toby Braunhardt</td>\n",
       "      <td>Consumer</td>\n",
       "      <td>Constantine</td>\n",
       "      <td>Algeria</td>\n",
       "      <td>Africa</td>\n",
       "      <td>Africa</td>\n",
       "      <td>...</td>\n",
       "      <td>Office Supplies</td>\n",
       "      <td>Storage</td>\n",
       "      <td>Tenex Lockers, Blue</td>\n",
       "      <td>408</td>\n",
       "      <td>2</td>\n",
       "      <td>0.0</td>\n",
       "      <td>106.140</td>\n",
       "      <td>35.46</td>\n",
       "      <td>Medium</td>\n",
       "      <td>2011</td>\n",
       "    </tr>\n",
       "    <tr>\n",
       "      <th>1</th>\n",
       "      <td>IN-2011-47883</td>\n",
       "      <td>01-2011</td>\n",
       "      <td>08-2011</td>\n",
       "      <td>Standard Class</td>\n",
       "      <td>Joseph Holt</td>\n",
       "      <td>Consumer</td>\n",
       "      <td>New South Wales</td>\n",
       "      <td>Australia</td>\n",
       "      <td>APAC</td>\n",
       "      <td>Oceania</td>\n",
       "      <td>...</td>\n",
       "      <td>Office Supplies</td>\n",
       "      <td>Supplies</td>\n",
       "      <td>Acme Trimmer, High Speed</td>\n",
       "      <td>120</td>\n",
       "      <td>3</td>\n",
       "      <td>0.1</td>\n",
       "      <td>36.036</td>\n",
       "      <td>9.72</td>\n",
       "      <td>Medium</td>\n",
       "      <td>2011</td>\n",
       "    </tr>\n",
       "    <tr>\n",
       "      <th>2</th>\n",
       "      <td>HU-2011-1220</td>\n",
       "      <td>01-2011</td>\n",
       "      <td>05-2011</td>\n",
       "      <td>Second Class</td>\n",
       "      <td>Annie Thurman</td>\n",
       "      <td>Consumer</td>\n",
       "      <td>Budapest</td>\n",
       "      <td>Hungary</td>\n",
       "      <td>EMEA</td>\n",
       "      <td>EMEA</td>\n",
       "      <td>...</td>\n",
       "      <td>Office Supplies</td>\n",
       "      <td>Storage</td>\n",
       "      <td>Tenex Box, Single Width</td>\n",
       "      <td>66</td>\n",
       "      <td>4</td>\n",
       "      <td>0.0</td>\n",
       "      <td>29.640</td>\n",
       "      <td>8.17</td>\n",
       "      <td>High</td>\n",
       "      <td>2011</td>\n",
       "    </tr>\n",
       "    <tr>\n",
       "      <th>3</th>\n",
       "      <td>IT-2011-3647632</td>\n",
       "      <td>01-2011</td>\n",
       "      <td>05-2011</td>\n",
       "      <td>Second Class</td>\n",
       "      <td>Eugene Moren</td>\n",
       "      <td>Home Office</td>\n",
       "      <td>Stockholm</td>\n",
       "      <td>Sweden</td>\n",
       "      <td>EU</td>\n",
       "      <td>North</td>\n",
       "      <td>...</td>\n",
       "      <td>Office Supplies</td>\n",
       "      <td>Paper</td>\n",
       "      <td>Enermax Note Cards, Premium</td>\n",
       "      <td>45</td>\n",
       "      <td>3</td>\n",
       "      <td>0.5</td>\n",
       "      <td>-26.055</td>\n",
       "      <td>4.82</td>\n",
       "      <td>High</td>\n",
       "      <td>2011</td>\n",
       "    </tr>\n",
       "    <tr>\n",
       "      <th>4</th>\n",
       "      <td>IN-2011-47883</td>\n",
       "      <td>01-2011</td>\n",
       "      <td>08-2011</td>\n",
       "      <td>Standard Class</td>\n",
       "      <td>Joseph Holt</td>\n",
       "      <td>Consumer</td>\n",
       "      <td>New South Wales</td>\n",
       "      <td>Australia</td>\n",
       "      <td>APAC</td>\n",
       "      <td>Oceania</td>\n",
       "      <td>...</td>\n",
       "      <td>Furniture</td>\n",
       "      <td>Furnishings</td>\n",
       "      <td>Eldon Light Bulb, Duo Pack</td>\n",
       "      <td>114</td>\n",
       "      <td>5</td>\n",
       "      <td>0.1</td>\n",
       "      <td>37.770</td>\n",
       "      <td>4.70</td>\n",
       "      <td>Medium</td>\n",
       "      <td>2011</td>\n",
       "    </tr>\n",
       "  </tbody>\n",
       "</table>\n",
       "<p>5 rows × 21 columns</p>\n",
       "</div>"
      ],
      "text/plain": [
       "          order_id order_date ship_date       ship_mode    customer_name  \\\n",
       "0     AG-2011-2040    01-2011   06-2011  Standard Class  Toby Braunhardt   \n",
       "1    IN-2011-47883    01-2011   08-2011  Standard Class      Joseph Holt   \n",
       "2     HU-2011-1220    01-2011   05-2011    Second Class    Annie Thurman   \n",
       "3  IT-2011-3647632    01-2011   05-2011    Second Class     Eugene Moren   \n",
       "4    IN-2011-47883    01-2011   08-2011  Standard Class      Joseph Holt   \n",
       "\n",
       "       segment            state    country  market   region  ...  \\\n",
       "0     Consumer      Constantine    Algeria  Africa   Africa  ...   \n",
       "1     Consumer  New South Wales  Australia    APAC  Oceania  ...   \n",
       "2     Consumer         Budapest    Hungary    EMEA     EMEA  ...   \n",
       "3  Home Office        Stockholm     Sweden      EU    North  ...   \n",
       "4     Consumer  New South Wales  Australia    APAC  Oceania  ...   \n",
       "\n",
       "          category sub_category                 product_name sales  quantity  \\\n",
       "0  Office Supplies      Storage          Tenex Lockers, Blue   408         2   \n",
       "1  Office Supplies     Supplies     Acme Trimmer, High Speed   120         3   \n",
       "2  Office Supplies      Storage      Tenex Box, Single Width    66         4   \n",
       "3  Office Supplies        Paper  Enermax Note Cards, Premium    45         3   \n",
       "4        Furniture  Furnishings   Eldon Light Bulb, Duo Pack   114         5   \n",
       "\n",
       "   discount   profit  shipping_cost  order_priority  year  \n",
       "0       0.0  106.140          35.46          Medium  2011  \n",
       "1       0.1   36.036           9.72          Medium  2011  \n",
       "2       0.0   29.640           8.17            High  2011  \n",
       "3       0.5  -26.055           4.82            High  2011  \n",
       "4       0.1   37.770           4.70          Medium  2011  \n",
       "\n",
       "[5 rows x 21 columns]"
      ]
     },
     "execution_count": 70,
     "metadata": {},
     "output_type": "execute_result"
    }
   ],
   "source": [
    "df.head()"
   ]
  },
  {
   "cell_type": "code",
   "execution_count": 71,
   "id": "7a5cf981-7bb7-4233-b4d5-bd68dbc821c3",
   "metadata": {},
   "outputs": [],
   "source": [
    "import datetime"
   ]
  },
  {
   "cell_type": "code",
   "execution_count": 72,
   "id": "81b8eba8-de5f-4d5d-ad85-530e71910001",
   "metadata": {},
   "outputs": [],
   "source": [
    "df['order_date'] = df['order_date'].astype('datetime64[ns]')"
   ]
  },
  {
   "cell_type": "code",
   "execution_count": 73,
   "id": "cca7f54a-c607-44b3-843f-d0e5e817ca89",
   "metadata": {},
   "outputs": [],
   "source": [
    "df['ship_date'] = df['ship_date'].astype('datetime64[ns]')"
   ]
  },
  {
   "cell_type": "code",
   "execution_count": 74,
   "id": "44b93722-8234-4d5c-a64c-caeae502f07a",
   "metadata": {},
   "outputs": [],
   "source": [
    "# df['sales'] = df['sales'].str.replace(\",\",\"\",regex = False)"
   ]
  },
  {
   "cell_type": "code",
   "execution_count": 75,
   "id": "fa2649cc-5ded-4a90-9fea-53fa02b7e20e",
   "metadata": {},
   "outputs": [],
   "source": [
    "df['sales'] = df['sales'].astype(int)"
   ]
  },
  {
   "cell_type": "code",
   "execution_count": null,
   "id": "221bd654-9c89-4b80-abdf-da5195e9ecf8",
   "metadata": {},
   "outputs": [],
   "source": [
    "df['order_date'] = df['order_date'].dt.strftime('%m-%Y')"
   ]
  },
  {
   "cell_type": "code",
   "execution_count": null,
   "id": "827df067-0956-44b3-aa88-9d7bbfb4fb0d",
   "metadata": {},
   "outputs": [],
   "source": [
    "df['ship_date'] = df['ship_date'].dt.strftime('%m-%Y')"
   ]
  },
  {
   "cell_type": "markdown",
   "id": "2098ca28-ff4c-4211-a8ea-5822dcfc2cc5",
   "metadata": {},
   "source": [
    "# Checking for nulls"
   ]
  },
  {
   "cell_type": "code",
   "execution_count": null,
   "id": "460a6b49-8cec-4f6f-beec-2975fdd59d30",
   "metadata": {},
   "outputs": [],
   "source": [
    "df.isnull().sum()"
   ]
  },
  {
   "cell_type": "markdown",
   "id": "468c0279-5e81-4d78-940c-5b1d8c4fc3b5",
   "metadata": {},
   "source": [
    "# Saving the file"
   ]
  },
  {
   "cell_type": "code",
   "execution_count": null,
   "id": "307139a1-fddf-4f6b-a2f1-b15cd963eca0",
   "metadata": {},
   "outputs": [],
   "source": [
    "df.to_excel(\"Superstore_orders.xlsx\",index = False)"
   ]
  }
 ],
 "metadata": {
  "kernelspec": {
   "display_name": "Python 3 (ipykernel)",
   "language": "python",
   "name": "python3"
  },
  "language_info": {
   "codemirror_mode": {
    "name": "ipython",
    "version": 3
   },
   "file_extension": ".py",
   "mimetype": "text/x-python",
   "name": "python",
   "nbconvert_exporter": "python",
   "pygments_lexer": "ipython3",
   "version": "3.10.11"
  }
 },
 "nbformat": 4,
 "nbformat_minor": 5
}
